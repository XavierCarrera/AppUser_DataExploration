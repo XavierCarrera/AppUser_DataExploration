{
  "nbformat": 4,
  "nbformat_minor": 0,
  "metadata": {
    "colab": {
      "name": "Chinook_ExplorationAndQueries.ipynb",
      "provenance": [],
      "collapsed_sections": [],
      "authorship_tag": "ABX9TyPIXK8z3SL3a5cPdcwsc/H9",
      "include_colab_link": true
    },
    "kernelspec": {
      "name": "python3",
      "display_name": "Python 3"
    },
    "language_info": {
      "name": "python"
    }
  },
  "cells": [
    {
      "cell_type": "markdown",
      "metadata": {
        "id": "view-in-github",
        "colab_type": "text"
      },
      "source": [
        "<a href=\"https://colab.research.google.com/github/XavierCarrera/ChinookUserDataExploration/blob/main/Chinook_ExplorationAndQueries.ipynb\" target=\"_parent\"><img src=\"https://colab.research.google.com/assets/colab-badge.svg\" alt=\"Open In Colab\"/></a>"
      ]
    },
    {
      "cell_type": "markdown",
      "metadata": {
        "id": "S2KLSWOpdtZ7"
      },
      "source": [
        "## Project Setup"
      ]
    },
    {
      "cell_type": "code",
      "metadata": {
        "id": "XH4AaHAJgfDb"
      },
      "source": [
        "import sqlalchemy\n",
        "from sqlalchemy import create_engine\n",
        "import pandas as pd\n",
        "from google.colab import files"
      ],
      "execution_count": 25,
      "outputs": []
    },
    {
      "cell_type": "code",
      "metadata": {
        "colab": {
          "base_uri": "https://localhost:8080/"
        },
        "id": "gJqL8slMnyNL",
        "outputId": "ce401342-ea12-4c83-f83c-dd6e77a7d804"
      },
      "source": [
        "### useful: download and extract chinook sample DB\n",
        "import urllib.request\n",
        "import zipfile\n",
        "from functools import partial\n",
        "import os\n",
        "\n",
        "chinook_url = 'http://www.sqlitetutorial.net/wp-content/uploads/2018/03/chinook.zip'\n",
        "if not os.path.exists('chinook.zip'):\n",
        "    print('downloading chinook.zip ', end='')\n",
        "    with urllib.request.urlopen(chinook_url) as response:\n",
        "        with open('chinook.zip', 'wb') as f:\n",
        "            for data in iter(partial(response.read, 4*1024), b''):\n",
        "                print('.', end='', flush=True)\n",
        "                f.write(data)\n",
        "\n",
        "zipfile.ZipFile('chinook.zip').extractall()\n",
        "assert os.path.exists('chinook.db')"
      ],
      "execution_count": 2,
      "outputs": [
        {
          "output_type": "stream",
          "text": [
            "downloading chinook.zip ..........................................................................."
          ],
          "name": "stdout"
        }
      ]
    },
    {
      "cell_type": "code",
      "metadata": {
        "id": "JHwPs9vngmLs"
      },
      "source": [
        "engine = create_engine('sqlite:///chinook.db')\n",
        "con = engine.connect()"
      ],
      "execution_count": 3,
      "outputs": []
    },
    {
      "cell_type": "markdown",
      "metadata": {
        "id": "h7D-Vo91oQ9E"
      },
      "source": [
        "## Data Exploration"
      ]
    },
    {
      "cell_type": "code",
      "metadata": {
        "colab": {
          "base_uri": "https://localhost:8080/"
        },
        "id": "-th406n4ibLu",
        "outputId": "09a37c6e-660b-4b7a-e3d5-169bf3911b29"
      },
      "source": [
        "table_names = engine.table_names()\n",
        "print(table_names)"
      ],
      "execution_count": 4,
      "outputs": [
        {
          "output_type": "stream",
          "text": [
            "['albums', 'artists', 'customers', 'employees', 'genres', 'invoice_items', 'invoices', 'media_types', 'playlist_track', 'playlists', 'sqlite_sequence', 'sqlite_stat1', 'tracks']\n"
          ],
          "name": "stdout"
        },
        {
          "output_type": "stream",
          "text": [
            "/usr/local/lib/python3.7/dist-packages/ipykernel_launcher.py:1: SADeprecationWarning: The Engine.table_names() method is deprecated and will be removed in a future release.  Please refer to Inspector.get_table_names(). (deprecated since: 1.4)\n",
            "  \"\"\"Entry point for launching an IPython kernel.\n"
          ],
          "name": "stderr"
        }
      ]
    },
    {
      "cell_type": "code",
      "metadata": {
        "colab": {
          "base_uri": "https://localhost:8080/"
        },
        "id": "4d6SZ2fSoMK0",
        "outputId": "56d6e00e-120e-439a-d5b0-9785ce95a670"
      },
      "source": [
        "for i in table_names:\n",
        "\n",
        "  query = pd.read_sql_query(f\"SELECT * FROM {i};\", engine).head(3)\n",
        "  query.name = i\n",
        "  \n",
        "  print(query.name, query.columns)\n",
        "  print(\"--------------------------------------------------------------------------------------------------\")"
      ],
      "execution_count": 5,
      "outputs": [
        {
          "output_type": "stream",
          "text": [
            "albums Index(['AlbumId', 'Title', 'ArtistId'], dtype='object')\n",
            "--------------------------------------------------------------------------------------------------\n",
            "artists Index(['ArtistId', 'Name'], dtype='object')\n",
            "--------------------------------------------------------------------------------------------------\n",
            "customers Index(['CustomerId', 'FirstName', 'LastName', 'Company', 'Address', 'City',\n",
            "       'State', 'Country', 'PostalCode', 'Phone', 'Fax', 'Email',\n",
            "       'SupportRepId'],\n",
            "      dtype='object')\n",
            "--------------------------------------------------------------------------------------------------\n",
            "employees Index(['EmployeeId', 'LastName', 'FirstName', 'Title', 'ReportsTo',\n",
            "       'BirthDate', 'HireDate', 'Address', 'City', 'State', 'Country',\n",
            "       'PostalCode', 'Phone', 'Fax', 'Email'],\n",
            "      dtype='object')\n",
            "--------------------------------------------------------------------------------------------------\n",
            "genres Index(['GenreId', 'Name'], dtype='object')\n",
            "--------------------------------------------------------------------------------------------------\n",
            "invoice_items Index(['InvoiceLineId', 'InvoiceId', 'TrackId', 'UnitPrice', 'Quantity'], dtype='object')\n",
            "--------------------------------------------------------------------------------------------------\n",
            "invoices Index(['InvoiceId', 'CustomerId', 'InvoiceDate', 'BillingAddress',\n",
            "       'BillingCity', 'BillingState', 'BillingCountry', 'BillingPostalCode',\n",
            "       'Total'],\n",
            "      dtype='object')\n",
            "--------------------------------------------------------------------------------------------------\n",
            "media_types Index(['MediaTypeId', 'Name'], dtype='object')\n",
            "--------------------------------------------------------------------------------------------------\n",
            "playlist_track Index(['PlaylistId', 'TrackId'], dtype='object')\n",
            "--------------------------------------------------------------------------------------------------\n",
            "playlists Index(['PlaylistId', 'Name'], dtype='object')\n",
            "--------------------------------------------------------------------------------------------------\n",
            "0    sqlite_sequence\n",
            "1    sqlite_sequence\n",
            "2    sqlite_sequence\n",
            "Name: name, dtype: object Index(['name', 'seq'], dtype='object')\n",
            "--------------------------------------------------------------------------------------------------\n",
            "sqlite_stat1 Index(['tbl', 'idx', 'stat'], dtype='object')\n",
            "--------------------------------------------------------------------------------------------------\n",
            "tracks Index(['TrackId', 'Name', 'AlbumId', 'MediaTypeId', 'GenreId', 'Composer',\n",
            "       'Milliseconds', 'Bytes', 'UnitPrice'],\n",
            "      dtype='object')\n",
            "--------------------------------------------------------------------------------------------------\n"
          ],
          "name": "stdout"
        }
      ]
    },
    {
      "cell_type": "code",
      "metadata": {
        "colab": {
          "base_uri": "https://localhost:8080/",
          "height": 80
        },
        "id": "hsiVcUPNjznf",
        "outputId": "f73d84af-7bfc-4edc-921e-15ae0e79e068"
      },
      "source": [
        "pd.read_sql_query('''SELECT \n",
        "                      MIN(InvoiceDate),\n",
        "                      MAX(InvoiceDate) \n",
        "                      FROM invoices;''', engine)"
      ],
      "execution_count": 6,
      "outputs": [
        {
          "output_type": "execute_result",
          "data": {
            "text/html": [
              "<div>\n",
              "<style scoped>\n",
              "    .dataframe tbody tr th:only-of-type {\n",
              "        vertical-align: middle;\n",
              "    }\n",
              "\n",
              "    .dataframe tbody tr th {\n",
              "        vertical-align: top;\n",
              "    }\n",
              "\n",
              "    .dataframe thead th {\n",
              "        text-align: right;\n",
              "    }\n",
              "</style>\n",
              "<table border=\"1\" class=\"dataframe\">\n",
              "  <thead>\n",
              "    <tr style=\"text-align: right;\">\n",
              "      <th></th>\n",
              "      <th>MIN(InvoiceDate)</th>\n",
              "      <th>MAX(InvoiceDate)</th>\n",
              "    </tr>\n",
              "  </thead>\n",
              "  <tbody>\n",
              "    <tr>\n",
              "      <th>0</th>\n",
              "      <td>2009-01-01 00:00:00</td>\n",
              "      <td>2013-12-22 00:00:00</td>\n",
              "    </tr>\n",
              "  </tbody>\n",
              "</table>\n",
              "</div>"
            ],
            "text/plain": [
              "      MIN(InvoiceDate)     MAX(InvoiceDate)\n",
              "0  2009-01-01 00:00:00  2013-12-22 00:00:00"
            ]
          },
          "metadata": {
            "tags": []
          },
          "execution_count": 6
        }
      ]
    },
    {
      "cell_type": "markdown",
      "metadata": {
        "id": "djSKYctKcKUq"
      },
      "source": [
        "## Querying"
      ]
    },
    {
      "cell_type": "code",
      "metadata": {
        "colab": {
          "base_uri": "https://localhost:8080/",
          "height": 80
        },
        "id": "5oIMOji1oLnx",
        "outputId": "d0b82c4d-5d8c-471f-b82e-62afd769c138"
      },
      "source": [
        "summary_stats = pd.read_sql_query('''WITH current_year AS (\n",
        "                        SELECT\n",
        "                          i.CustomerId, \n",
        "                          SUM(ii.UnitPrice * ii.Quantity) AS current_revenue\n",
        "                        FROM invoice_items AS ii\n",
        "                        LEFT JOIN invoices AS i\n",
        "                          ON ii.InvoiceId = i.InvoiceId\n",
        "                        WHERE i.InvoiceDate BETWEEN '2013-01-01' AND '2013-12-01'\n",
        "                        GROUP BY CustomerId),\n",
        "                      last_year AS (\n",
        "                        SELECT\n",
        "                          SUM(ii.UnitPrice * ii.Quantity) AS last_revenue\n",
        "                        FROM invoice_items AS ii\n",
        "                        LEFT JOIN invoices AS i\n",
        "                          ON ii.InvoiceId = i.InvoiceId\n",
        "                        WHERE i.InvoiceDate BETWEEN '2012-01-01' AND '2012-12-01'\n",
        "                      )\n",
        "\n",
        "                      SELECT\n",
        "                        SUM(current_revenue) as YearRevenue, \n",
        "                        ROUND(AVG(current_revenue), 2) AS ARPU,\n",
        "                        ROUND(SUM(current_revenue) / last_revenue - 1, 2) AS RollingYear\n",
        "                      FROM current_year, last_year;''', engine)\n",
        "\n",
        "summary_stats.to_csv('summary_stats.csv', index=False)\n",
        "summary_stats"
      ],
      "execution_count": 41,
      "outputs": [
        {
          "output_type": "execute_result",
          "data": {
            "text/html": [
              "<div>\n",
              "<style scoped>\n",
              "    .dataframe tbody tr th:only-of-type {\n",
              "        vertical-align: middle;\n",
              "    }\n",
              "\n",
              "    .dataframe tbody tr th {\n",
              "        vertical-align: top;\n",
              "    }\n",
              "\n",
              "    .dataframe thead th {\n",
              "        text-align: right;\n",
              "    }\n",
              "</style>\n",
              "<table border=\"1\" class=\"dataframe\">\n",
              "  <thead>\n",
              "    <tr style=\"text-align: right;\">\n",
              "      <th></th>\n",
              "      <th>YearRevenue</th>\n",
              "      <th>ARPU</th>\n",
              "      <th>RollingYear</th>\n",
              "    </tr>\n",
              "  </thead>\n",
              "  <tbody>\n",
              "    <tr>\n",
              "      <th>0</th>\n",
              "      <td>411.96</td>\n",
              "      <td>9.36</td>\n",
              "      <td>-0.06</td>\n",
              "    </tr>\n",
              "  </tbody>\n",
              "</table>\n",
              "</div>"
            ],
            "text/plain": [
              "   YearRevenue  ARPU  RollingYear\n",
              "0       411.96  9.36        -0.06"
            ]
          },
          "metadata": {
            "tags": []
          },
          "execution_count": 41
        }
      ]
    },
    {
      "cell_type": "code",
      "metadata": {
        "colab": {
          "base_uri": "https://localhost:8080/",
          "height": 700
        },
        "id": "YFB1mJgw4Qq6",
        "outputId": "0c924a1f-2f3c-4cd2-c878-c95e608ba0d9"
      },
      "source": [
        "global_users= pd.read_sql_query('''SELECT\n",
        "                        c.Country,\n",
        "                        COUNT(DISTINCT c.CustomerID) AS TotalUsers\n",
        "                    FROM customers AS c\n",
        "                    LEFT JOIN invoices AS i\n",
        "                        ON c.CustomerId = i.CustomerId\n",
        "                    WHERE i.InvoiceDate BETWEEN '2013-01-01' AND '2014-01-01'\n",
        "                    GROUP BY c.Country''', engine)\n",
        "\n",
        "global_users.to_csv('global_users.csv', index=False)\n",
        "global_users"
      ],
      "execution_count": 42,
      "outputs": [
        {
          "output_type": "execute_result",
          "data": {
            "text/html": [
              "<div>\n",
              "<style scoped>\n",
              "    .dataframe tbody tr th:only-of-type {\n",
              "        vertical-align: middle;\n",
              "    }\n",
              "\n",
              "    .dataframe tbody tr th {\n",
              "        vertical-align: top;\n",
              "    }\n",
              "\n",
              "    .dataframe thead th {\n",
              "        text-align: right;\n",
              "    }\n",
              "</style>\n",
              "<table border=\"1\" class=\"dataframe\">\n",
              "  <thead>\n",
              "    <tr style=\"text-align: right;\">\n",
              "      <th></th>\n",
              "      <th>Country</th>\n",
              "      <th>TotalUsers</th>\n",
              "    </tr>\n",
              "  </thead>\n",
              "  <tbody>\n",
              "    <tr>\n",
              "      <th>0</th>\n",
              "      <td>Argentina</td>\n",
              "      <td>1</td>\n",
              "    </tr>\n",
              "    <tr>\n",
              "      <th>1</th>\n",
              "      <td>Austria</td>\n",
              "      <td>1</td>\n",
              "    </tr>\n",
              "    <tr>\n",
              "      <th>2</th>\n",
              "      <td>Belgium</td>\n",
              "      <td>1</td>\n",
              "    </tr>\n",
              "    <tr>\n",
              "      <th>3</th>\n",
              "      <td>Brazil</td>\n",
              "      <td>4</td>\n",
              "    </tr>\n",
              "    <tr>\n",
              "      <th>4</th>\n",
              "      <td>Canada</td>\n",
              "      <td>7</td>\n",
              "    </tr>\n",
              "    <tr>\n",
              "      <th>5</th>\n",
              "      <td>Czech Republic</td>\n",
              "      <td>2</td>\n",
              "    </tr>\n",
              "    <tr>\n",
              "      <th>6</th>\n",
              "      <td>Denmark</td>\n",
              "      <td>1</td>\n",
              "    </tr>\n",
              "    <tr>\n",
              "      <th>7</th>\n",
              "      <td>Finland</td>\n",
              "      <td>1</td>\n",
              "    </tr>\n",
              "    <tr>\n",
              "      <th>8</th>\n",
              "      <td>France</td>\n",
              "      <td>4</td>\n",
              "    </tr>\n",
              "    <tr>\n",
              "      <th>9</th>\n",
              "      <td>Germany</td>\n",
              "      <td>1</td>\n",
              "    </tr>\n",
              "    <tr>\n",
              "      <th>10</th>\n",
              "      <td>Hungary</td>\n",
              "      <td>1</td>\n",
              "    </tr>\n",
              "    <tr>\n",
              "      <th>11</th>\n",
              "      <td>India</td>\n",
              "      <td>1</td>\n",
              "    </tr>\n",
              "    <tr>\n",
              "      <th>12</th>\n",
              "      <td>Ireland</td>\n",
              "      <td>1</td>\n",
              "    </tr>\n",
              "    <tr>\n",
              "      <th>13</th>\n",
              "      <td>Italy</td>\n",
              "      <td>1</td>\n",
              "    </tr>\n",
              "    <tr>\n",
              "      <th>14</th>\n",
              "      <td>Netherlands</td>\n",
              "      <td>1</td>\n",
              "    </tr>\n",
              "    <tr>\n",
              "      <th>15</th>\n",
              "      <td>Norway</td>\n",
              "      <td>1</td>\n",
              "    </tr>\n",
              "    <tr>\n",
              "      <th>16</th>\n",
              "      <td>Poland</td>\n",
              "      <td>1</td>\n",
              "    </tr>\n",
              "    <tr>\n",
              "      <th>17</th>\n",
              "      <td>Portugal</td>\n",
              "      <td>1</td>\n",
              "    </tr>\n",
              "    <tr>\n",
              "      <th>18</th>\n",
              "      <td>Spain</td>\n",
              "      <td>1</td>\n",
              "    </tr>\n",
              "    <tr>\n",
              "      <th>19</th>\n",
              "      <td>USA</td>\n",
              "      <td>11</td>\n",
              "    </tr>\n",
              "    <tr>\n",
              "      <th>20</th>\n",
              "      <td>United Kingdom</td>\n",
              "      <td>3</td>\n",
              "    </tr>\n",
              "  </tbody>\n",
              "</table>\n",
              "</div>"
            ],
            "text/plain": [
              "           Country  TotalUsers\n",
              "0        Argentina           1\n",
              "1          Austria           1\n",
              "2          Belgium           1\n",
              "3           Brazil           4\n",
              "4           Canada           7\n",
              "5   Czech Republic           2\n",
              "6          Denmark           1\n",
              "7          Finland           1\n",
              "8           France           4\n",
              "9          Germany           1\n",
              "10         Hungary           1\n",
              "11           India           1\n",
              "12         Ireland           1\n",
              "13           Italy           1\n",
              "14     Netherlands           1\n",
              "15          Norway           1\n",
              "16          Poland           1\n",
              "17        Portugal           1\n",
              "18           Spain           1\n",
              "19             USA          11\n",
              "20  United Kingdom           3"
            ]
          },
          "metadata": {
            "tags": []
          },
          "execution_count": 42
        }
      ]
    },
    {
      "cell_type": "code",
      "metadata": {
        "colab": {
          "base_uri": "https://localhost:8080/",
          "height": 700
        },
        "id": "5kHf4dsI74_s",
        "outputId": "b32cc7d1-17f6-4be3-c148-f717f6fc58e5"
      },
      "source": [
        "global_growth = pd.read_sql_query('''WITH users_2013 AS(\n",
        "                        SELECT\n",
        "                          c.Country AS country_2013,\n",
        "                          COUNT(DISTINCT c.CustomerID) AS TotalUsers2013\n",
        "                        FROM customers AS c\n",
        "                        LEFT JOIN invoices AS i\n",
        "                          ON c.CustomerId = i.CustomerId\n",
        "                        WHERE i.InvoiceDate BETWEEN '2013-01-01' AND '2013-12-01'\n",
        "                        GROUP BY c.Country),\n",
        "                      users_2012 AS (\n",
        "                        SELECT\n",
        "                          c.Country,\n",
        "                          COUNT(DISTINCT c.CustomerID) AS TotalUsers2012\n",
        "                        FROM customers AS c\n",
        "                        LEFT JOIN invoices AS i\n",
        "                          ON c.CustomerId = i.CustomerId\n",
        "                        WHERE i.InvoiceDate BETWEEN '2012-01-01' AND '2012-12-01'\n",
        "                        GROUP BY c.Country)\n",
        "\n",
        "                        SELECT \n",
        "                          country_2013,\n",
        "                          SUM(ROUND(TotalUsers2013 / TotalUsers2012 - 1, 2)) AS YearlyGrowth\n",
        "                        FROM users_2013, users_2012\n",
        "                        GROUP BY country_2013;''', engine)\n",
        "\n",
        "global_growth.to_csv('global_growth.csv', index=False)\n",
        "global_growth"
      ],
      "execution_count": 43,
      "outputs": [
        {
          "output_type": "execute_result",
          "data": {
            "text/html": [
              "<div>\n",
              "<style scoped>\n",
              "    .dataframe tbody tr th:only-of-type {\n",
              "        vertical-align: middle;\n",
              "    }\n",
              "\n",
              "    .dataframe tbody tr th {\n",
              "        vertical-align: top;\n",
              "    }\n",
              "\n",
              "    .dataframe thead th {\n",
              "        text-align: right;\n",
              "    }\n",
              "</style>\n",
              "<table border=\"1\" class=\"dataframe\">\n",
              "  <thead>\n",
              "    <tr style=\"text-align: right;\">\n",
              "      <th></th>\n",
              "      <th>country_2013</th>\n",
              "      <th>YearlyGrowth</th>\n",
              "    </tr>\n",
              "  </thead>\n",
              "  <tbody>\n",
              "    <tr>\n",
              "      <th>0</th>\n",
              "      <td>Argentina</td>\n",
              "      <td>-7.0</td>\n",
              "    </tr>\n",
              "    <tr>\n",
              "      <th>1</th>\n",
              "      <td>Austria</td>\n",
              "      <td>-7.0</td>\n",
              "    </tr>\n",
              "    <tr>\n",
              "      <th>2</th>\n",
              "      <td>Belgium</td>\n",
              "      <td>-7.0</td>\n",
              "    </tr>\n",
              "    <tr>\n",
              "      <th>3</th>\n",
              "      <td>Brazil</td>\n",
              "      <td>39.0</td>\n",
              "    </tr>\n",
              "    <tr>\n",
              "      <th>4</th>\n",
              "      <td>Canada</td>\n",
              "      <td>81.0</td>\n",
              "    </tr>\n",
              "    <tr>\n",
              "      <th>5</th>\n",
              "      <td>Czech Republic</td>\n",
              "      <td>8.0</td>\n",
              "    </tr>\n",
              "    <tr>\n",
              "      <th>6</th>\n",
              "      <td>Denmark</td>\n",
              "      <td>-7.0</td>\n",
              "    </tr>\n",
              "    <tr>\n",
              "      <th>7</th>\n",
              "      <td>Finland</td>\n",
              "      <td>-7.0</td>\n",
              "    </tr>\n",
              "    <tr>\n",
              "      <th>8</th>\n",
              "      <td>France</td>\n",
              "      <td>39.0</td>\n",
              "    </tr>\n",
              "    <tr>\n",
              "      <th>9</th>\n",
              "      <td>Germany</td>\n",
              "      <td>-7.0</td>\n",
              "    </tr>\n",
              "    <tr>\n",
              "      <th>10</th>\n",
              "      <td>Hungary</td>\n",
              "      <td>-7.0</td>\n",
              "    </tr>\n",
              "    <tr>\n",
              "      <th>11</th>\n",
              "      <td>India</td>\n",
              "      <td>-7.0</td>\n",
              "    </tr>\n",
              "    <tr>\n",
              "      <th>12</th>\n",
              "      <td>Ireland</td>\n",
              "      <td>-7.0</td>\n",
              "    </tr>\n",
              "    <tr>\n",
              "      <th>13</th>\n",
              "      <td>Italy</td>\n",
              "      <td>-7.0</td>\n",
              "    </tr>\n",
              "    <tr>\n",
              "      <th>14</th>\n",
              "      <td>Netherlands</td>\n",
              "      <td>-7.0</td>\n",
              "    </tr>\n",
              "    <tr>\n",
              "      <th>15</th>\n",
              "      <td>Norway</td>\n",
              "      <td>-7.0</td>\n",
              "    </tr>\n",
              "    <tr>\n",
              "      <th>16</th>\n",
              "      <td>Poland</td>\n",
              "      <td>-7.0</td>\n",
              "    </tr>\n",
              "    <tr>\n",
              "      <th>17</th>\n",
              "      <td>Portugal</td>\n",
              "      <td>-7.0</td>\n",
              "    </tr>\n",
              "    <tr>\n",
              "      <th>18</th>\n",
              "      <td>Spain</td>\n",
              "      <td>-7.0</td>\n",
              "    </tr>\n",
              "    <tr>\n",
              "      <th>19</th>\n",
              "      <td>USA</td>\n",
              "      <td>112.0</td>\n",
              "    </tr>\n",
              "    <tr>\n",
              "      <th>20</th>\n",
              "      <td>United Kingdom</td>\n",
              "      <td>21.0</td>\n",
              "    </tr>\n",
              "  </tbody>\n",
              "</table>\n",
              "</div>"
            ],
            "text/plain": [
              "      country_2013  YearlyGrowth\n",
              "0        Argentina          -7.0\n",
              "1          Austria          -7.0\n",
              "2          Belgium          -7.0\n",
              "3           Brazil          39.0\n",
              "4           Canada          81.0\n",
              "5   Czech Republic           8.0\n",
              "6          Denmark          -7.0\n",
              "7          Finland          -7.0\n",
              "8           France          39.0\n",
              "9          Germany          -7.0\n",
              "10         Hungary          -7.0\n",
              "11           India          -7.0\n",
              "12         Ireland          -7.0\n",
              "13           Italy          -7.0\n",
              "14     Netherlands          -7.0\n",
              "15          Norway          -7.0\n",
              "16          Poland          -7.0\n",
              "17        Portugal          -7.0\n",
              "18           Spain          -7.0\n",
              "19             USA         112.0\n",
              "20  United Kingdom          21.0"
            ]
          },
          "metadata": {
            "tags": []
          },
          "execution_count": 43
        }
      ]
    },
    {
      "cell_type": "code",
      "metadata": {
        "colab": {
          "base_uri": "https://localhost:8080/",
          "height": 204
        },
        "id": "37EPMZaJFHoY",
        "outputId": "7a0056ac-78d7-49df-f08a-16f35101b93f"
      },
      "source": [
        "top_genres = pd.read_sql_query('''SELECT \n",
        "                        Genre,\n",
        "                        SUM(price * quantity) AS Revenue\n",
        "                      FROM (\n",
        "                          SELECT \n",
        "                            g.Name AS Genre,\n",
        "                            ii.UnitPrice AS price,\n",
        "                            ii.Quantity AS quantity\n",
        "                          FROM genres AS g\n",
        "                          INNER JOIN tracks AS t \n",
        "                            ON g.GenreId = t.GenreId\n",
        "                          INNER JOIN invoice_items AS ii\n",
        "                            ON t.TrackId = ii.TrackId\n",
        "                          INNER JOIN invoices AS i\n",
        "                            ON ii.InvoiceId = i.InvoiceID\n",
        "                          WHERE i.InvoiceDate >= '2013-01-01')\n",
        "                        GROUP BY Genre\n",
        "                        ORDER BY Revenue DESC\n",
        "                        LIMIT 5''', engine)\n",
        "\n",
        "top_genres.to_csv('top_genres.csv', index=False)\n",
        "top_genres"
      ],
      "execution_count": 44,
      "outputs": [
        {
          "output_type": "execute_result",
          "data": {
            "text/html": [
              "<div>\n",
              "<style scoped>\n",
              "    .dataframe tbody tr th:only-of-type {\n",
              "        vertical-align: middle;\n",
              "    }\n",
              "\n",
              "    .dataframe tbody tr th {\n",
              "        vertical-align: top;\n",
              "    }\n",
              "\n",
              "    .dataframe thead th {\n",
              "        text-align: right;\n",
              "    }\n",
              "</style>\n",
              "<table border=\"1\" class=\"dataframe\">\n",
              "  <thead>\n",
              "    <tr style=\"text-align: right;\">\n",
              "      <th></th>\n",
              "      <th>Genre</th>\n",
              "      <th>Revenue</th>\n",
              "    </tr>\n",
              "  </thead>\n",
              "  <tbody>\n",
              "    <tr>\n",
              "      <th>0</th>\n",
              "      <td>Rock</td>\n",
              "      <td>174.24</td>\n",
              "    </tr>\n",
              "    <tr>\n",
              "      <th>1</th>\n",
              "      <td>Latin</td>\n",
              "      <td>79.20</td>\n",
              "    </tr>\n",
              "    <tr>\n",
              "      <th>2</th>\n",
              "      <td>Alternative &amp; Punk</td>\n",
              "      <td>55.44</td>\n",
              "    </tr>\n",
              "    <tr>\n",
              "      <th>3</th>\n",
              "      <td>Metal</td>\n",
              "      <td>55.44</td>\n",
              "    </tr>\n",
              "    <tr>\n",
              "      <th>4</th>\n",
              "      <td>Jazz</td>\n",
              "      <td>21.78</td>\n",
              "    </tr>\n",
              "  </tbody>\n",
              "</table>\n",
              "</div>"
            ],
            "text/plain": [
              "                Genre  Revenue\n",
              "0                Rock   174.24\n",
              "1               Latin    79.20\n",
              "2  Alternative & Punk    55.44\n",
              "3               Metal    55.44\n",
              "4                Jazz    21.78"
            ]
          },
          "metadata": {
            "tags": []
          },
          "execution_count": 44
        }
      ]
    },
    {
      "cell_type": "code",
      "metadata": {
        "colab": {
          "base_uri": "https://localhost:8080/",
          "height": 204
        },
        "id": "UV3R5pBAMBgA",
        "outputId": "23775221-f5f0-4724-a8ff-01895872e175"
      },
      "source": [
        "top_artists = pd.read_sql_query('''SELECT \n",
        "                        Artist,\n",
        "                        SUM(price * quantity) AS Revenue\n",
        "                      FROM (\n",
        "                          SELECT \n",
        "                            ar.Name AS Artist,\n",
        "                            ii.UnitPrice AS price,\n",
        "                            ii.Quantity AS quantity\n",
        "                          FROM artists AS ar\n",
        "                          INNER JOIN albums AS al\n",
        "                            ON ar.ArtistId = al.ArtistId\n",
        "                          INNER JOIN tracks AS t \n",
        "                            ON al.AlbumId = t.AlbumId\n",
        "                          INNER JOIN invoice_items AS ii\n",
        "                            ON t.TrackId = ii.TrackId\n",
        "                          INNER JOIN invoices AS i\n",
        "                            ON ii.InvoiceId = i.InvoiceID\n",
        "                          WHERE i.InvoiceDate >= '2013-01-01')\n",
        "                        GROUP BY Artist\n",
        "                        ORDER BY Revenue DESC\n",
        "                        LIMIT 5''', engine)\n",
        "\n",
        "top_artists.to_csv('top_artists.csv', index=False)\n",
        "top_artists"
      ],
      "execution_count": 45,
      "outputs": [
        {
          "output_type": "execute_result",
          "data": {
            "text/html": [
              "<div>\n",
              "<style scoped>\n",
              "    .dataframe tbody tr th:only-of-type {\n",
              "        vertical-align: middle;\n",
              "    }\n",
              "\n",
              "    .dataframe tbody tr th {\n",
              "        vertical-align: top;\n",
              "    }\n",
              "\n",
              "    .dataframe thead th {\n",
              "        text-align: right;\n",
              "    }\n",
              "</style>\n",
              "<table border=\"1\" class=\"dataframe\">\n",
              "  <thead>\n",
              "    <tr style=\"text-align: right;\">\n",
              "      <th></th>\n",
              "      <th>Artist</th>\n",
              "      <th>Revenue</th>\n",
              "    </tr>\n",
              "  </thead>\n",
              "  <tbody>\n",
              "    <tr>\n",
              "      <th>0</th>\n",
              "      <td>Iron Maiden</td>\n",
              "      <td>35.64</td>\n",
              "    </tr>\n",
              "    <tr>\n",
              "      <th>1</th>\n",
              "      <td>U2</td>\n",
              "      <td>24.75</td>\n",
              "    </tr>\n",
              "    <tr>\n",
              "      <th>2</th>\n",
              "      <td>Metallica</td>\n",
              "      <td>16.83</td>\n",
              "    </tr>\n",
              "    <tr>\n",
              "      <th>3</th>\n",
              "      <td>Lost</td>\n",
              "      <td>15.92</td>\n",
              "    </tr>\n",
              "    <tr>\n",
              "      <th>4</th>\n",
              "      <td>Led Zeppelin</td>\n",
              "      <td>14.85</td>\n",
              "    </tr>\n",
              "  </tbody>\n",
              "</table>\n",
              "</div>"
            ],
            "text/plain": [
              "         Artist  Revenue\n",
              "0   Iron Maiden    35.64\n",
              "1            U2    24.75\n",
              "2     Metallica    16.83\n",
              "3          Lost    15.92\n",
              "4  Led Zeppelin    14.85"
            ]
          },
          "metadata": {
            "tags": []
          },
          "execution_count": 45
        }
      ]
    },
    {
      "cell_type": "code",
      "metadata": {
        "colab": {
          "base_uri": "https://localhost:8080/",
          "height": 173
        },
        "id": "8xPAPUfUoL-5",
        "outputId": "6351fec8-7fb4-4b4d-9729-f10c7c61d739"
      },
      "source": [
        "quarters = pd.read_sql_query('''SELECT \n",
        "                        CASE \n",
        "                              WHEN i.InvoiceDate BETWEEN '2013-01-01' AND '2013-04-01' THEN 'Q1'\n",
        "                              WHEN i.InvoiceDate BETWEEN '2013-04-01' AND '2013-07-01' THEN 'Q2'\n",
        "                              WHEN i.InvoiceDate BETWEEN '2013-07-01' AND '2013-10-01' THEN 'Q3'\n",
        "                              WHEN i.InvoiceDate BETWEEN '2013-10-01' AND '2014-01-01' THEN 'Q4' \n",
        "                              END AS Quarter,\n",
        "                        SUM(ii.UnitPrice * ii.Quantity) AS Revenue\n",
        "                      FROM invoices AS i\n",
        "                      LEFT JOIN invoice_items AS ii\n",
        "                        ON i.InvoiceId = ii.InvoiceId\n",
        "                      GROUP BY Quarter\n",
        "                      HAVING i.InvoiceDate >= '2013-01-01';''', engine)\n",
        "\n",
        "quarters.to_csv('quarters.csv', index=False)\n",
        "quarters"
      ],
      "execution_count": 46,
      "outputs": [
        {
          "output_type": "execute_result",
          "data": {
            "text/html": [
              "<div>\n",
              "<style scoped>\n",
              "    .dataframe tbody tr th:only-of-type {\n",
              "        vertical-align: middle;\n",
              "    }\n",
              "\n",
              "    .dataframe tbody tr th {\n",
              "        vertical-align: top;\n",
              "    }\n",
              "\n",
              "    .dataframe thead th {\n",
              "        text-align: right;\n",
              "    }\n",
              "</style>\n",
              "<table border=\"1\" class=\"dataframe\">\n",
              "  <thead>\n",
              "    <tr style=\"text-align: right;\">\n",
              "      <th></th>\n",
              "      <th>Quarter</th>\n",
              "      <th>Revenue</th>\n",
              "    </tr>\n",
              "  </thead>\n",
              "  <tbody>\n",
              "    <tr>\n",
              "      <th>0</th>\n",
              "      <td>Q1</td>\n",
              "      <td>102.96</td>\n",
              "    </tr>\n",
              "    <tr>\n",
              "      <th>1</th>\n",
              "      <td>Q2</td>\n",
              "      <td>108.90</td>\n",
              "    </tr>\n",
              "    <tr>\n",
              "      <th>2</th>\n",
              "      <td>Q3</td>\n",
              "      <td>112.86</td>\n",
              "    </tr>\n",
              "    <tr>\n",
              "      <th>3</th>\n",
              "      <td>Q4</td>\n",
              "      <td>125.86</td>\n",
              "    </tr>\n",
              "  </tbody>\n",
              "</table>\n",
              "</div>"
            ],
            "text/plain": [
              "  Quarter  Revenue\n",
              "0      Q1   102.96\n",
              "1      Q2   108.90\n",
              "2      Q3   112.86\n",
              "3      Q4   125.86"
            ]
          },
          "metadata": {
            "tags": []
          },
          "execution_count": 46
        }
      ]
    },
    {
      "cell_type": "code",
      "metadata": {
        "colab": {
          "base_uri": "https://localhost:8080/",
          "height": 419
        },
        "id": "yoBQyd64b8Br",
        "outputId": "2eca3f68-ed93-4288-8eb1-9ca248b23870"
      },
      "source": [
        "active_users = pd.read_sql_query('''SELECT\n",
        "                        DATE(i.InvoiceDate) as Date,\n",
        "                        SUM(ii.UnitPrice * ii.Quantity) AS Revenue,\n",
        "                        COUNT(DISTINCT i.CustomerId) AS ActiveUsers\n",
        "                      FROM invoices AS i\n",
        "                      LEFT JOIN invoice_items AS ii\n",
        "                        ON i.InvoiceId = ii.InvoiceId\n",
        "                      GROUP BY Date;''', engine)\n",
        "\n",
        "active_users.to_csv('active_users.csv', index=False)\n",
        "active_users"
      ],
      "execution_count": 47,
      "outputs": [
        {
          "output_type": "execute_result",
          "data": {
            "text/html": [
              "<div>\n",
              "<style scoped>\n",
              "    .dataframe tbody tr th:only-of-type {\n",
              "        vertical-align: middle;\n",
              "    }\n",
              "\n",
              "    .dataframe tbody tr th {\n",
              "        vertical-align: top;\n",
              "    }\n",
              "\n",
              "    .dataframe thead th {\n",
              "        text-align: right;\n",
              "    }\n",
              "</style>\n",
              "<table border=\"1\" class=\"dataframe\">\n",
              "  <thead>\n",
              "    <tr style=\"text-align: right;\">\n",
              "      <th></th>\n",
              "      <th>Date</th>\n",
              "      <th>Revenue</th>\n",
              "      <th>ActiveUsers</th>\n",
              "    </tr>\n",
              "  </thead>\n",
              "  <tbody>\n",
              "    <tr>\n",
              "      <th>0</th>\n",
              "      <td>2009-01-01</td>\n",
              "      <td>1.98</td>\n",
              "      <td>1</td>\n",
              "    </tr>\n",
              "    <tr>\n",
              "      <th>1</th>\n",
              "      <td>2009-01-02</td>\n",
              "      <td>3.96</td>\n",
              "      <td>1</td>\n",
              "    </tr>\n",
              "    <tr>\n",
              "      <th>2</th>\n",
              "      <td>2009-01-03</td>\n",
              "      <td>5.94</td>\n",
              "      <td>1</td>\n",
              "    </tr>\n",
              "    <tr>\n",
              "      <th>3</th>\n",
              "      <td>2009-01-06</td>\n",
              "      <td>8.91</td>\n",
              "      <td>1</td>\n",
              "    </tr>\n",
              "    <tr>\n",
              "      <th>4</th>\n",
              "      <td>2009-01-11</td>\n",
              "      <td>13.86</td>\n",
              "      <td>1</td>\n",
              "    </tr>\n",
              "    <tr>\n",
              "      <th>...</th>\n",
              "      <td>...</td>\n",
              "      <td>...</td>\n",
              "      <td>...</td>\n",
              "    </tr>\n",
              "    <tr>\n",
              "      <th>349</th>\n",
              "      <td>2013-12-05</td>\n",
              "      <td>3.96</td>\n",
              "      <td>1</td>\n",
              "    </tr>\n",
              "    <tr>\n",
              "      <th>350</th>\n",
              "      <td>2013-12-06</td>\n",
              "      <td>5.94</td>\n",
              "      <td>1</td>\n",
              "    </tr>\n",
              "    <tr>\n",
              "      <th>351</th>\n",
              "      <td>2013-12-09</td>\n",
              "      <td>8.91</td>\n",
              "      <td>1</td>\n",
              "    </tr>\n",
              "    <tr>\n",
              "      <th>352</th>\n",
              "      <td>2013-12-14</td>\n",
              "      <td>13.86</td>\n",
              "      <td>1</td>\n",
              "    </tr>\n",
              "    <tr>\n",
              "      <th>353</th>\n",
              "      <td>2013-12-22</td>\n",
              "      <td>1.99</td>\n",
              "      <td>1</td>\n",
              "    </tr>\n",
              "  </tbody>\n",
              "</table>\n",
              "<p>354 rows × 3 columns</p>\n",
              "</div>"
            ],
            "text/plain": [
              "           Date  Revenue  ActiveUsers\n",
              "0    2009-01-01     1.98            1\n",
              "1    2009-01-02     3.96            1\n",
              "2    2009-01-03     5.94            1\n",
              "3    2009-01-06     8.91            1\n",
              "4    2009-01-11    13.86            1\n",
              "..          ...      ...          ...\n",
              "349  2013-12-05     3.96            1\n",
              "350  2013-12-06     5.94            1\n",
              "351  2013-12-09     8.91            1\n",
              "352  2013-12-14    13.86            1\n",
              "353  2013-12-22     1.99            1\n",
              "\n",
              "[354 rows x 3 columns]"
            ]
          },
          "metadata": {
            "tags": []
          },
          "execution_count": 47
        }
      ]
    },
    {
      "cell_type": "code",
      "metadata": {
        "colab": {
          "base_uri": "https://localhost:8080/",
          "height": 17
        },
        "id": "hUFCJiLFOOfs",
        "outputId": "47ca1638-27a0-4af0-ccc7-d4577f72e93c"
      },
      "source": [
        "datasets = ['summary_stats.csv', 'global_users.csv', 'global_growth.csv',\n",
        "            'top_genres.csv', 'top_artists.csv', 'quarters.csv', 'active_users.csv']\n",
        "\n",
        "for i in datasets:\n",
        "  files.download(i)"
      ],
      "execution_count": 48,
      "outputs": [
        {
          "output_type": "display_data",
          "data": {
            "application/javascript": [
              "\n",
              "    async function download(id, filename, size) {\n",
              "      if (!google.colab.kernel.accessAllowed) {\n",
              "        return;\n",
              "      }\n",
              "      const div = document.createElement('div');\n",
              "      const label = document.createElement('label');\n",
              "      label.textContent = `Downloading \"${filename}\": `;\n",
              "      div.appendChild(label);\n",
              "      const progress = document.createElement('progress');\n",
              "      progress.max = size;\n",
              "      div.appendChild(progress);\n",
              "      document.body.appendChild(div);\n",
              "\n",
              "      const buffers = [];\n",
              "      let downloaded = 0;\n",
              "\n",
              "      const channel = await google.colab.kernel.comms.open(id);\n",
              "      // Send a message to notify the kernel that we're ready.\n",
              "      channel.send({})\n",
              "\n",
              "      for await (const message of channel.messages) {\n",
              "        // Send a message to notify the kernel that we're ready.\n",
              "        channel.send({})\n",
              "        if (message.buffers) {\n",
              "          for (const buffer of message.buffers) {\n",
              "            buffers.push(buffer);\n",
              "            downloaded += buffer.byteLength;\n",
              "            progress.value = downloaded;\n",
              "          }\n",
              "        }\n",
              "      }\n",
              "      const blob = new Blob(buffers, {type: 'application/binary'});\n",
              "      const a = document.createElement('a');\n",
              "      a.href = window.URL.createObjectURL(blob);\n",
              "      a.download = filename;\n",
              "      div.appendChild(a);\n",
              "      a.click();\n",
              "      div.remove();\n",
              "    }\n",
              "  "
            ],
            "text/plain": [
              "<IPython.core.display.Javascript object>"
            ]
          },
          "metadata": {
            "tags": []
          }
        },
        {
          "output_type": "display_data",
          "data": {
            "application/javascript": [
              "download(\"download_fead030d-77de-4e70-94ad-dca1543c6f57\", \"summary_stats.csv\", 59)"
            ],
            "text/plain": [
              "<IPython.core.display.Javascript object>"
            ]
          },
          "metadata": {
            "tags": []
          }
        },
        {
          "output_type": "display_data",
          "data": {
            "application/javascript": [
              "\n",
              "    async function download(id, filename, size) {\n",
              "      if (!google.colab.kernel.accessAllowed) {\n",
              "        return;\n",
              "      }\n",
              "      const div = document.createElement('div');\n",
              "      const label = document.createElement('label');\n",
              "      label.textContent = `Downloading \"${filename}\": `;\n",
              "      div.appendChild(label);\n",
              "      const progress = document.createElement('progress');\n",
              "      progress.max = size;\n",
              "      div.appendChild(progress);\n",
              "      document.body.appendChild(div);\n",
              "\n",
              "      const buffers = [];\n",
              "      let downloaded = 0;\n",
              "\n",
              "      const channel = await google.colab.kernel.comms.open(id);\n",
              "      // Send a message to notify the kernel that we're ready.\n",
              "      channel.send({})\n",
              "\n",
              "      for await (const message of channel.messages) {\n",
              "        // Send a message to notify the kernel that we're ready.\n",
              "        channel.send({})\n",
              "        if (message.buffers) {\n",
              "          for (const buffer of message.buffers) {\n",
              "            buffers.push(buffer);\n",
              "            downloaded += buffer.byteLength;\n",
              "            progress.value = downloaded;\n",
              "          }\n",
              "        }\n",
              "      }\n",
              "      const blob = new Blob(buffers, {type: 'application/binary'});\n",
              "      const a = document.createElement('a');\n",
              "      a.href = window.URL.createObjectURL(blob);\n",
              "      a.download = filename;\n",
              "      div.appendChild(a);\n",
              "      a.click();\n",
              "      div.remove();\n",
              "    }\n",
              "  "
            ],
            "text/plain": [
              "<IPython.core.display.Javascript object>"
            ]
          },
          "metadata": {
            "tags": []
          }
        },
        {
          "output_type": "display_data",
          "data": {
            "application/javascript": [
              "download(\"download_006a6f19-e0ce-4e78-8979-1dbb199f49d3\", \"global_users.csv\", 236)"
            ],
            "text/plain": [
              "<IPython.core.display.Javascript object>"
            ]
          },
          "metadata": {
            "tags": []
          }
        },
        {
          "output_type": "display_data",
          "data": {
            "application/javascript": [
              "\n",
              "    async function download(id, filename, size) {\n",
              "      if (!google.colab.kernel.accessAllowed) {\n",
              "        return;\n",
              "      }\n",
              "      const div = document.createElement('div');\n",
              "      const label = document.createElement('label');\n",
              "      label.textContent = `Downloading \"${filename}\": `;\n",
              "      div.appendChild(label);\n",
              "      const progress = document.createElement('progress');\n",
              "      progress.max = size;\n",
              "      div.appendChild(progress);\n",
              "      document.body.appendChild(div);\n",
              "\n",
              "      const buffers = [];\n",
              "      let downloaded = 0;\n",
              "\n",
              "      const channel = await google.colab.kernel.comms.open(id);\n",
              "      // Send a message to notify the kernel that we're ready.\n",
              "      channel.send({})\n",
              "\n",
              "      for await (const message of channel.messages) {\n",
              "        // Send a message to notify the kernel that we're ready.\n",
              "        channel.send({})\n",
              "        if (message.buffers) {\n",
              "          for (const buffer of message.buffers) {\n",
              "            buffers.push(buffer);\n",
              "            downloaded += buffer.byteLength;\n",
              "            progress.value = downloaded;\n",
              "          }\n",
              "        }\n",
              "      }\n",
              "      const blob = new Blob(buffers, {type: 'application/binary'});\n",
              "      const a = document.createElement('a');\n",
              "      a.href = window.URL.createObjectURL(blob);\n",
              "      a.download = filename;\n",
              "      div.appendChild(a);\n",
              "      a.click();\n",
              "      div.remove();\n",
              "    }\n",
              "  "
            ],
            "text/plain": [
              "<IPython.core.display.Javascript object>"
            ]
          },
          "metadata": {
            "tags": []
          }
        },
        {
          "output_type": "display_data",
          "data": {
            "application/javascript": [
              "download(\"download_255f1b4c-1205-4e38-993b-f105463e4aee\", \"global_growth.csv\", 305)"
            ],
            "text/plain": [
              "<IPython.core.display.Javascript object>"
            ]
          },
          "metadata": {
            "tags": []
          }
        },
        {
          "output_type": "display_data",
          "data": {
            "application/javascript": [
              "\n",
              "    async function download(id, filename, size) {\n",
              "      if (!google.colab.kernel.accessAllowed) {\n",
              "        return;\n",
              "      }\n",
              "      const div = document.createElement('div');\n",
              "      const label = document.createElement('label');\n",
              "      label.textContent = `Downloading \"${filename}\": `;\n",
              "      div.appendChild(label);\n",
              "      const progress = document.createElement('progress');\n",
              "      progress.max = size;\n",
              "      div.appendChild(progress);\n",
              "      document.body.appendChild(div);\n",
              "\n",
              "      const buffers = [];\n",
              "      let downloaded = 0;\n",
              "\n",
              "      const channel = await google.colab.kernel.comms.open(id);\n",
              "      // Send a message to notify the kernel that we're ready.\n",
              "      channel.send({})\n",
              "\n",
              "      for await (const message of channel.messages) {\n",
              "        // Send a message to notify the kernel that we're ready.\n",
              "        channel.send({})\n",
              "        if (message.buffers) {\n",
              "          for (const buffer of message.buffers) {\n",
              "            buffers.push(buffer);\n",
              "            downloaded += buffer.byteLength;\n",
              "            progress.value = downloaded;\n",
              "          }\n",
              "        }\n",
              "      }\n",
              "      const blob = new Blob(buffers, {type: 'application/binary'});\n",
              "      const a = document.createElement('a');\n",
              "      a.href = window.URL.createObjectURL(blob);\n",
              "      a.download = filename;\n",
              "      div.appendChild(a);\n",
              "      a.click();\n",
              "      div.remove();\n",
              "    }\n",
              "  "
            ],
            "text/plain": [
              "<IPython.core.display.Javascript object>"
            ]
          },
          "metadata": {
            "tags": []
          }
        },
        {
          "output_type": "display_data",
          "data": {
            "application/javascript": [
              "download(\"download_0f26f348-7a57-4fa7-a7a9-9359e498258b\", \"top_genres.csv\", 149)"
            ],
            "text/plain": [
              "<IPython.core.display.Javascript object>"
            ]
          },
          "metadata": {
            "tags": []
          }
        },
        {
          "output_type": "display_data",
          "data": {
            "application/javascript": [
              "\n",
              "    async function download(id, filename, size) {\n",
              "      if (!google.colab.kernel.accessAllowed) {\n",
              "        return;\n",
              "      }\n",
              "      const div = document.createElement('div');\n",
              "      const label = document.createElement('label');\n",
              "      label.textContent = `Downloading \"${filename}\": `;\n",
              "      div.appendChild(label);\n",
              "      const progress = document.createElement('progress');\n",
              "      progress.max = size;\n",
              "      div.appendChild(progress);\n",
              "      document.body.appendChild(div);\n",
              "\n",
              "      const buffers = [];\n",
              "      let downloaded = 0;\n",
              "\n",
              "      const channel = await google.colab.kernel.comms.open(id);\n",
              "      // Send a message to notify the kernel that we're ready.\n",
              "      channel.send({})\n",
              "\n",
              "      for await (const message of channel.messages) {\n",
              "        // Send a message to notify the kernel that we're ready.\n",
              "        channel.send({})\n",
              "        if (message.buffers) {\n",
              "          for (const buffer of message.buffers) {\n",
              "            buffers.push(buffer);\n",
              "            downloaded += buffer.byteLength;\n",
              "            progress.value = downloaded;\n",
              "          }\n",
              "        }\n",
              "      }\n",
              "      const blob = new Blob(buffers, {type: 'application/binary'});\n",
              "      const a = document.createElement('a');\n",
              "      a.href = window.URL.createObjectURL(blob);\n",
              "      a.download = filename;\n",
              "      div.appendChild(a);\n",
              "      a.click();\n",
              "      div.remove();\n",
              "    }\n",
              "  "
            ],
            "text/plain": [
              "<IPython.core.display.Javascript object>"
            ]
          },
          "metadata": {
            "tags": []
          }
        },
        {
          "output_type": "display_data",
          "data": {
            "application/javascript": [
              "download(\"download_42f095b1-ca60-4bbd-92fd-44fbc252ceea\", \"top_artists.csv\", 139)"
            ],
            "text/plain": [
              "<IPython.core.display.Javascript object>"
            ]
          },
          "metadata": {
            "tags": []
          }
        },
        {
          "output_type": "display_data",
          "data": {
            "application/javascript": [
              "\n",
              "    async function download(id, filename, size) {\n",
              "      if (!google.colab.kernel.accessAllowed) {\n",
              "        return;\n",
              "      }\n",
              "      const div = document.createElement('div');\n",
              "      const label = document.createElement('label');\n",
              "      label.textContent = `Downloading \"${filename}\": `;\n",
              "      div.appendChild(label);\n",
              "      const progress = document.createElement('progress');\n",
              "      progress.max = size;\n",
              "      div.appendChild(progress);\n",
              "      document.body.appendChild(div);\n",
              "\n",
              "      const buffers = [];\n",
              "      let downloaded = 0;\n",
              "\n",
              "      const channel = await google.colab.kernel.comms.open(id);\n",
              "      // Send a message to notify the kernel that we're ready.\n",
              "      channel.send({})\n",
              "\n",
              "      for await (const message of channel.messages) {\n",
              "        // Send a message to notify the kernel that we're ready.\n",
              "        channel.send({})\n",
              "        if (message.buffers) {\n",
              "          for (const buffer of message.buffers) {\n",
              "            buffers.push(buffer);\n",
              "            downloaded += buffer.byteLength;\n",
              "            progress.value = downloaded;\n",
              "          }\n",
              "        }\n",
              "      }\n",
              "      const blob = new Blob(buffers, {type: 'application/binary'});\n",
              "      const a = document.createElement('a');\n",
              "      a.href = window.URL.createObjectURL(blob);\n",
              "      a.download = filename;\n",
              "      div.appendChild(a);\n",
              "      a.click();\n",
              "      div.remove();\n",
              "    }\n",
              "  "
            ],
            "text/plain": [
              "<IPython.core.display.Javascript object>"
            ]
          },
          "metadata": {
            "tags": []
          }
        },
        {
          "output_type": "display_data",
          "data": {
            "application/javascript": [
              "download(\"download_9fa1b2b0-706f-4475-8c2d-cace7266bb39\", \"quarters.csv\", 103)"
            ],
            "text/plain": [
              "<IPython.core.display.Javascript object>"
            ]
          },
          "metadata": {
            "tags": []
          }
        },
        {
          "output_type": "display_data",
          "data": {
            "application/javascript": [
              "\n",
              "    async function download(id, filename, size) {\n",
              "      if (!google.colab.kernel.accessAllowed) {\n",
              "        return;\n",
              "      }\n",
              "      const div = document.createElement('div');\n",
              "      const label = document.createElement('label');\n",
              "      label.textContent = `Downloading \"${filename}\": `;\n",
              "      div.appendChild(label);\n",
              "      const progress = document.createElement('progress');\n",
              "      progress.max = size;\n",
              "      div.appendChild(progress);\n",
              "      document.body.appendChild(div);\n",
              "\n",
              "      const buffers = [];\n",
              "      let downloaded = 0;\n",
              "\n",
              "      const channel = await google.colab.kernel.comms.open(id);\n",
              "      // Send a message to notify the kernel that we're ready.\n",
              "      channel.send({})\n",
              "\n",
              "      for await (const message of channel.messages) {\n",
              "        // Send a message to notify the kernel that we're ready.\n",
              "        channel.send({})\n",
              "        if (message.buffers) {\n",
              "          for (const buffer of message.buffers) {\n",
              "            buffers.push(buffer);\n",
              "            downloaded += buffer.byteLength;\n",
              "            progress.value = downloaded;\n",
              "          }\n",
              "        }\n",
              "      }\n",
              "      const blob = new Blob(buffers, {type: 'application/binary'});\n",
              "      const a = document.createElement('a');\n",
              "      a.href = window.URL.createObjectURL(blob);\n",
              "      a.download = filename;\n",
              "      div.appendChild(a);\n",
              "      a.click();\n",
              "      div.remove();\n",
              "    }\n",
              "  "
            ],
            "text/plain": [
              "<IPython.core.display.Javascript object>"
            ]
          },
          "metadata": {
            "tags": []
          }
        },
        {
          "output_type": "display_data",
          "data": {
            "application/javascript": [
              "download(\"download_76e1c876-dffd-45c5-95ee-88f79928d414\", \"active_users.csv\", 7189)"
            ],
            "text/plain": [
              "<IPython.core.display.Javascript object>"
            ]
          },
          "metadata": {
            "tags": []
          }
        }
      ]
    },
    {
      "cell_type": "markdown",
      "metadata": {
        "id": "imKnOXICoiUc"
      },
      "source": [
        "## Closing Connection"
      ]
    },
    {
      "cell_type": "code",
      "metadata": {
        "id": "vVyxhBRWlUow"
      },
      "source": [
        "con.close()"
      ],
      "execution_count": 49,
      "outputs": []
    }
  ]
}